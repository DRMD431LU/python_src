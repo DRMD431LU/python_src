{
 "cells": [
  {
   "cell_type": "code",
   "execution_count": null,
   "metadata": {},
   "outputs": [],
   "source": [
    "import pandas as pd\n",
    "import openpyxl as xl"
   ]
  },
  {
   "cell_type": "code",
   "execution_count": null,
   "metadata": {},
   "outputs": [],
   "source": [
    "ACSA=pd.read_csv(r'C:\\Users\\vriosto\\Downloads\\Reporte\\ACSA.csv', sep=',', dtype=object)\n",
    "ACSA0=pd.read_csv(r'C:\\Users\\vriosto\\Downloads\\Reporte\\ACSA0.csv', sep=',', dtype=object)\n",
    "CFA=pd.read_csv(r'C:\\Users\\vriosto\\Downloads\\Reporte\\CFA.csv', sep=',', dtype=object)\n",
    "CFA0=pd.read_csv(r'C:\\Users\\vriosto\\Downloads\\Reporte\\CFA0.csv', sep=',', dtype=object)\n",
    "CEAB=pd.read_csv(r'C:\\Users\\vriosto\\Downloads\\Reporte\\CEAB.csv', sep=',', dtype=object)\n",
    "CEAP=pd.read_csv(r'C:\\Users\\vriosto\\Downloads\\Reporte\\CEAP.csv', sep=',', dtype=object)\n",
    "MEAB=pd.read_csv(r'C:\\Users\\vriosto\\Downloads\\Reporte\\MEAB.csv', sep=',', dtype=object)\n",
    "MEAC=pd.read_csv(r'C:\\Users\\vriosto\\Downloads\\Reporte\\MEAC.csv', sep=',', dtype=object)\n",
    "frames=[MEAB,MEAC]\n",
    "Modalidad_eval=pd.concat(frames)\n",
    "frames1=[ACSA,ACSA0]\n",
    "Acceso_status=pd.concat(frames1)\n",
    "frames2=[CFA,CFA0]\n",
    "Calificacion_final=pd.concat(frames2)\n",
    "frames3=[CEAB,CEAP]\n",
    "Calificacion_examen=pd.concat(frames3)"
   ]
  },
  {
   "cell_type": "code",
   "execution_count": null,
   "metadata": {},
   "outputs": [],
   "source": []
  },
  {
   "cell_type": "code",
   "execution_count": null,
   "metadata": {},
   "outputs": [],
   "source": []
  },
  {
   "cell_type": "code",
   "execution_count": null,
   "metadata": {},
   "outputs": [],
   "source": []
  },
  {
   "cell_type": "code",
   "execution_count": null,
   "metadata": {},
   "outputs": [],
   "source": []
  },
  {
   "cell_type": "code",
   "execution_count": null,
   "metadata": {},
   "outputs": [],
   "source": []
  },
  {
   "cell_type": "code",
   "execution_count": null,
   "metadata": {},
   "outputs": [],
   "source": []
  },
  {
   "cell_type": "code",
   "execution_count": null,
   "metadata": {},
   "outputs": [],
   "source": []
  },
  {
   "cell_type": "code",
   "execution_count": null,
   "metadata": {},
   "outputs": [],
   "source": []
  },
  {
   "cell_type": "code",
   "execution_count": null,
   "metadata": {},
   "outputs": [],
   "source": []
  },
  {
   "cell_type": "code",
   "execution_count": null,
   "metadata": {},
   "outputs": [],
   "source": []
  },
  {
   "cell_type": "code",
   "execution_count": null,
   "metadata": {},
   "outputs": [],
   "source": []
  },
  {
   "cell_type": "code",
   "execution_count": null,
   "metadata": {},
   "outputs": [],
   "source": []
  },
  {
   "cell_type": "code",
   "execution_count": null,
   "metadata": {
    "collapsed": true
   },
   "outputs": [],
   "source": []
  },
  {
   "cell_type": "code",
   "execution_count": null,
   "metadata": {
    "collapsed": true
   },
   "outputs": [],
   "source": []
  }
 ],
 "metadata": {
  "kernelspec": {
   "display_name": "Python 3",
   "language": "python",
   "name": "python3"
  },
  "language_info": {
   "codemirror_mode": {
    "name": "ipython",
    "version": 3
   },
   "file_extension": ".py",
   "mimetype": "text/x-python",
   "name": "python",
   "nbconvert_exporter": "python",
   "pygments_lexer": "ipython3",
   "version": "3.6.3"
  }
 },
 "nbformat": 4,
 "nbformat_minor": 2
}
