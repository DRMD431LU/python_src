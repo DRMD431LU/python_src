{
 "cells": [
  {
   "cell_type": "markdown",
   "metadata": {
    "collapsed": true
   },
   "source": []
  },
  {
   "cell_type": "code",
   "execution_count": 4,
   "metadata": {
    "scrolled": false
   },
   "outputs": [
    {
     "name": "stdout",
     "output_type": "stream",
     "text": [
      "  status plataforma  status  matricula    modalidad               asignatura\n",
      "0            Activo  Activo  000045490  Actividades  Administración aduanera\n",
      "*******************************\n",
      "   matricula               asignatura                         actividad  \\\n",
      "0  000035099  Administración aduanera  Modalidad de exámenes | Semana 2   \n",
      "\n",
      "  requerido calificacion intento  \n",
      "0    0:6:43         5.00       1  \n",
      "*******************************\n",
      "  status plataforma  status  matricula               asignatura calificacion  \\\n",
      "0            Activo  Activo  000000644  Administración aduanera         2.80   \n",
      "\n",
      "      ultimo acceso  \n",
      "0  2018-03-20 10:55  \n",
      "*******************************\n",
      "  status plataforma  status  matricula  nombre        apellidos     grupo  \\\n",
      "0            Activo  Activo  000035099  Iberka  Soriano Batista  Grupo_01   \n",
      "\n",
      "                asignatura   ultimo acceso m ultimo acceso auvi  \\\n",
      "0  Administración aduanera  2018-03-19 22:32   2018-03-19 22:45   \n",
      "\n",
      "                  clave  \n",
      "0  AB018_2_0503_O1CI304  \n",
      "--- 0.9170000553131104 seconds ---\n"
     ]
    }
   ],
   "source": [
    "#from selenium.webdriver.common.by import By\n",
    "\n",
    "import pandas as pd\n",
    "import time\n",
    "#import openpyxl as xl\n",
    "#from openpyxl import load_workbook\n",
    "\n",
    "''' se realiza la carga del modulo\n",
    "de tiempo para medir la duracion de ejecucion.'''\n",
    "start_time = time.time()\n",
    "#wb = load_workbook(filename = r'C:\\Users\\vriosto\\Downloads\\Reporte\\Asignacion.xlsx')\n",
    "#sheet_ranges = wb['range names']\n",
    "'''Se cargan los archivos necesarios para generar el reporte\n",
    "y se concatenan para disminuir el numero'''\n",
    "ACSA=pd.read_csv(r'C:\\Users\\vriosto\\Downloads\\Reporte\\ACSA.csv', sep=',', dtype=object)\n",
    "ACSA0=pd.read_csv(r'C:\\Users\\vriosto\\Downloads\\Reporte\\ACSA0.csv', sep=',', dtype=object)\n",
    "CFA=pd.read_csv(r'C:\\Users\\vriosto\\Downloads\\Reporte\\CFA.csv', sep=',', dtype=object)\n",
    "CFA0=pd.read_csv(r'C:\\Users\\vriosto\\Downloads\\Reporte\\CFA0.csv', sep=',', dtype=object)\n",
    "CEAB=pd.read_csv(r'C:\\Users\\vriosto\\Downloads\\Reporte\\CEAB.csv', sep=',', dtype=object)\n",
    "CEAP=pd.read_csv(r'C:\\Users\\vriosto\\Downloads\\Reporte\\CEAP.csv', sep=',', dtype=object)\n",
    "MEAB=pd.read_csv(r'C:\\Users\\vriosto\\Downloads\\Reporte\\MEAB.csv', sep=',', dtype=object)\n",
    "MEAC=pd.read_csv(r'C:\\Users\\vriosto\\Downloads\\Reporte\\MEAC.csv', sep=',', dtype=object)\n",
    "frames=[MEAB,MEAC]\n",
    "Modalidad_eval=pd.concat(frames)\n",
    "frames1=[ACSA,ACSA0]\n",
    "Acceso_status=pd.concat(frames1)\n",
    "frames2=[CFA,CFA0]\n",
    "Calificacion_final=pd.concat(frames2)\n",
    "frames3=[CEAB,CEAP]\n",
    "Calificacion_examen=pd.concat(frames3)\n",
    "#print(Modalidad_eval.head(1))\n",
    "#print(Calificacion_final.head(1))\n",
    "#print(Acceso_status.head(1))\n",
    "#print(Calificacion_examen.head(1))\n",
    "#print(Modalidad_eval.head(1))\n",
    "#print(Modalidad_eval['ultimo acceso auvi'])\n",
    "#print(Modalidad_eval['apellidos'])\n",
    "#frames=[Acceso_status['nombre'],Acceso_status['apellidos']]\n",
    "'''se eliminan columnas innecesarias'''\n",
    "Acceso_status=Acceso_status[['status plataforma','status','matricula','nombre','apellidos','grupo','asignatura','ultimo acceso m','ultimo acceso auvi','clave']]\n",
    "Modalidad_eval=Modalidad_eval[['status plataforma','status','matricula','modalidad','asignatura']]\n",
    "Calificacion_examen=Calificacion_examen[['matricula','asignatura','actividad','requerido','calificacion','intento']]\n",
    "Calificacion_final=Calificacion_final[['status plataforma','status','matricula','asignatura','calificacion','ultimo acceso']]\n",
    "#nombre=pd.concat.(frames)\n",
    "#Modalidad_eval['matricula'].add(0)\n",
    "'''se filtran alumnos por status plataforma y status marcados \n",
    "como activos.'''\n",
    "activo1=Acceso_status['status plataforma'] == \"Activo\"\n",
    "activo2=Acceso_status['status'] == \"Activo\"\n",
    "#Acceso_status[activo2 & activo1]\n",
    "Acceso_status=Acceso_status[activo1 & activo2]\n",
    "activo1=Modalidad_eval['status plataforma'] == \"Activo\"\n",
    "activo2=Modalidad_eval['status'] == \"Activo\"\n",
    "Modalidad_eval=Modalidad_eval[activo1 & activo2]\n",
    "activo1=Calificacion_final['status plataforma'] == \"Activo\"\n",
    "activo2=Calificacion_final['status'] == \"Activo\"\n",
    "Calificacion_final=Calificacion_final[activo1 & activo2]\n",
    "\n",
    "\n",
    "\n",
    "print(Modalidad_eval.head(1))\n",
    "print(\"*******************************\")\n",
    "print(Calificacion_examen.head(1))\n",
    "print(\"*******************************\")\n",
    "print(Calificacion_final.head(1))\n",
    "print(\"*******************************\")\n",
    "print(Acceso_status.head(1))\n",
    "\n",
    "#nombre=Acceso_status[['nombre','apellidos']]\n",
    "#Modalidad_eval.fillna(\"Sin modalidad\")\n",
    "#print(Modalidad_eval['modalidad'].value_counts())\n",
    "nombre=Acceso_status['nombre']+\" \"+Acceso_status['apellidos']\n",
    "#print(Acceso_status.head(nombre))\n",
    "#Acceso_status.insert(3,column=\"Nombre\",value=nombre)\n",
    "#print(nombre)\n",
    "print(\"--- %s seconds ---\" % (time.time() - start_time))"
   ]
  },
  {
   "cell_type": "code",
   "execution_count": null,
   "metadata": {
    "collapsed": true
   },
   "outputs": [],
   "source": [
    "<h1>sdasdasd </h1>"
   ]
  },
  {
   "cell_type": "code",
   "execution_count": null,
   "metadata": {
    "collapsed": true
   },
   "outputs": [],
   "source": []
  },
  {
   "cell_type": "code",
   "execution_count": null,
   "metadata": {
    "collapsed": true
   },
   "outputs": [],
   "source": []
  },
  {
   "cell_type": "code",
   "execution_count": null,
   "metadata": {
    "collapsed": true
   },
   "outputs": [],
   "source": []
  },
  {
   "cell_type": "code",
   "execution_count": null,
   "metadata": {
    "collapsed": true
   },
   "outputs": [],
   "source": []
  },
  {
   "cell_type": "code",
   "execution_count": null,
   "metadata": {
    "collapsed": true
   },
   "outputs": [],
   "source": []
  },
  {
   "cell_type": "code",
   "execution_count": null,
   "metadata": {
    "collapsed": true
   },
   "outputs": [],
   "source": []
  },
  {
   "cell_type": "code",
   "execution_count": null,
   "metadata": {
    "collapsed": true
   },
   "outputs": [],
   "source": []
  },
  {
   "cell_type": "code",
   "execution_count": null,
   "metadata": {
    "collapsed": true
   },
   "outputs": [],
   "source": []
  },
  {
   "cell_type": "code",
   "execution_count": null,
   "metadata": {
    "collapsed": true
   },
   "outputs": [],
   "source": []
  },
  {
   "cell_type": "code",
   "execution_count": null,
   "metadata": {
    "collapsed": true
   },
   "outputs": [],
   "source": []
  },
  {
   "cell_type": "code",
   "execution_count": null,
   "metadata": {
    "collapsed": true
   },
   "outputs": [],
   "source": []
  },
  {
   "cell_type": "code",
   "execution_count": null,
   "metadata": {
    "collapsed": true
   },
   "outputs": [],
   "source": []
  },
  {
   "cell_type": "code",
   "execution_count": null,
   "metadata": {
    "collapsed": true
   },
   "outputs": [],
   "source": []
  }
 ],
 "metadata": {
  "kernelspec": {
   "display_name": "Python 3",
   "language": "python",
   "name": "python3"
  },
  "language_info": {
   "codemirror_mode": {
    "name": "ipython",
    "version": 3
   },
   "file_extension": ".py",
   "mimetype": "text/x-python",
   "name": "python",
   "nbconvert_exporter": "python",
   "pygments_lexer": "ipython3",
   "version": "3.6.3"
  }
 },
 "nbformat": 4,
 "nbformat_minor": 2
}
